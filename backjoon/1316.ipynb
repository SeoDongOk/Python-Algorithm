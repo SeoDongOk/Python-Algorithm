{
 "cells": [
  {
   "cell_type": "code",
   "execution_count": 1,
   "metadata": {},
   "outputs": [],
   "source": [
    "# GroupNumber Counter"
   ]
  },
  {
   "cell_type": "code",
   "execution_count": 2,
   "metadata": {},
   "outputs": [],
   "source": [
    "input_1=[3,\n",
    "\"happy\",\n",
    "\"new\",\n",
    "\"year\"]\n",
    "input_2=[4,\n",
    "\"aba\",\n",
    "\"abab\",\n",
    "\"abcabc\",\n",
    "\"a\"]"
   ]
  },
  {
   "cell_type": "code",
   "execution_count": 54,
   "metadata": {},
   "outputs": [
    {
     "name": "stdout",
     "output_type": "stream",
     "text": [
      "None\n",
      "None\n",
      "None\n",
      "None\n",
      "None\n",
      "None\n",
      "None\n",
      "None\n",
      "None\n",
      "None\n",
      "0\n"
     ]
    }
   ],
   "source": [
    "def GroupNumberCounter(target):\n",
    "  max_length = target[0]\n",
    "  counter = 0\n",
    "  selector = False\n",
    "  for i in range(1,max_length):\n",
    "    split_target =  [].append({ _ for _ in target[i]})\n",
    "    for j in target[i]:\n",
    "      print(split_target)\n",
    "    if selector:\n",
    "      counter +=1\n",
    "    print(split_target)\n",
    "  return counter\n",
    "print(GroupNumberCounter(input_1))"
   ]
  },
  {
   "cell_type": "code",
   "execution_count": null,
   "metadata": {},
   "outputs": [],
   "source": []
  }
 ],
 "metadata": {
  "kernelspec": {
   "display_name": "week4",
   "language": "python",
   "name": "python3"
  },
  "language_info": {
   "codemirror_mode": {
    "name": "ipython",
    "version": 3
   },
   "file_extension": ".py",
   "mimetype": "text/x-python",
   "name": "python",
   "nbconvert_exporter": "python",
   "pygments_lexer": "ipython3",
   "version": "3.11.9"
  }
 },
 "nbformat": 4,
 "nbformat_minor": 2
}
