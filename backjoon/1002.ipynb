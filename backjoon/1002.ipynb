{
 "cells": [
  {
   "cell_type": "code",
   "execution_count": 2,
   "metadata": {},
   "outputs": [
    {
     "data": {
      "text/plain": [
       "1"
      ]
     },
     "execution_count": 2,
     "metadata": {},
     "output_type": "execute_result"
    }
   ],
   "source": [
    "# 3\n",
    "# 0 0 13 40 0 37\n",
    "# 0 0 3 0 7 4\n",
    "# 1 1 1 1 1 5\n",
    "\n",
    "def eme(data):\n",
    "  x1=data[0]\n",
    "  y1=data[1]\n",
    "  r1=data[2]\n",
    "  x2=data[3]\n",
    "  y2=data[4]\n",
    "  r2=data[5]\n",
    "  x_minus = x1-x2\n",
    "  y_minus = y1-y2\n",
    "  if x_minus == 0 and y_minus == 0:\n",
    "    return -1\n",
    "  distance =pow((pow(x_minus,2) + pow(y_minus,2)),0.5)\n",
    "  selecter = distance -(r1+r2)\n",
    "  if selecter < 0:\n",
    "    return 2\n",
    "  elif selecter == 0:\n",
    "    return 1\n",
    "  else:\n",
    "    return 0\n"
   ]
  },
  {
   "cell_type": "code",
   "execution_count": 8,
   "metadata": {},
   "outputs": [
    {
     "name": "stdout",
     "output_type": "stream",
     "text": [
      "2\n",
      "1\n",
      "0\n"
     ]
    }
   ],
   "source": [
    "data = list(map(float, input().split()))\n",
    "T = int(input())\n",
    "\n",
    "for i in range(T):\n",
    "  x1, y1, r1, x2, y2, r2 = map(int, input().split())\n",
    "  x_minus = x1-x2\n",
    "  y_minus = abs(y1-y2)\n",
    "  if x1 == x2 and y1==y2 and r1 == r2:\n",
    "    print(-1)\n",
    "    continue\n",
    "  elif  x1 == x2 and y1==y2 and r1 != r2:\n",
    "    print(0)\n",
    "    continue\n",
    "  distance =pow((pow(x_minus,2) + pow(y_minus,2)),0.5)\n",
    "  selecter = distance -(r1+r2)\n",
    "  if selecter < 0:\n",
    "    print(2)\n",
    "  elif selecter == 0:\n",
    "    print(1)"
   ]
  },
  {
   "cell_type": "code",
   "execution_count": 9,
   "metadata": {},
   "outputs": [
    {
     "name": "stdout",
     "output_type": "stream",
     "text": [
      "2\n"
     ]
    },
    {
     "ename": "ValueError",
     "evalue": "not enough values to unpack (expected 6, got 0)",
     "output_type": "error",
     "traceback": [
      "\u001b[0;31m---------------------------------------------------------------------------\u001b[0m",
      "\u001b[0;31mValueError\u001b[0m                                Traceback (most recent call last)",
      "Cell \u001b[0;32mIn[9], line 4\u001b[0m\n\u001b[1;32m      1\u001b[0m T \u001b[38;5;241m=\u001b[39m \u001b[38;5;28mint\u001b[39m(\u001b[38;5;28minput\u001b[39m())\n\u001b[1;32m      3\u001b[0m \u001b[38;5;28;01mfor\u001b[39;00m _ \u001b[38;5;129;01min\u001b[39;00m \u001b[38;5;28mrange\u001b[39m(T):\n\u001b[0;32m----> 4\u001b[0m     x1, y1, r1, x2, y2, r2 \u001b[38;5;241m=\u001b[39m \u001b[38;5;28mmap\u001b[39m(\u001b[38;5;28mfloat\u001b[39m, \u001b[38;5;28minput\u001b[39m()\u001b[38;5;241m.\u001b[39msplit())\n\u001b[1;32m      5\u001b[0m     x_minus \u001b[38;5;241m=\u001b[39m \u001b[38;5;28mabs\u001b[39m(x1\u001b[38;5;241m-\u001b[39mx2)\n\u001b[1;32m      6\u001b[0m     y_minus \u001b[38;5;241m=\u001b[39m \u001b[38;5;28mabs\u001b[39m(y1\u001b[38;5;241m-\u001b[39my2)\n",
      "\u001b[0;31mValueError\u001b[0m: not enough values to unpack (expected 6, got 0)"
     ]
    }
   ],
   "source": [
    "# 교재 참고함. \n",
    "from math import sqrt\n",
    "T = int(input())\n",
    "\n",
    "for _ in range(T):\n",
    "    x1, y1, r1, x2, y2, r2 = map(int, input().split())\n",
    "    x_minus = abs(x1-x2)\n",
    "    y_minus = abs(y1-y2)\n",
    "    dist = sqrt((x1 - x2) ** 2 + (y1 - y2) ** 2)\n",
    "    diff =  abs(r1-r2)\n",
    "    ans = 0\n",
    "    # 두 원이 일치    \n",
    "    if dist == 0 and r1 == r2:\n",
    "        ans = -1\n",
    "    # 두 원이 외접하거나, 내접할 때\n",
    "    elif dist == r1 + r2 or dist == diff:\n",
    "        ans = 1\n",
    "    # 두 원이 두  점에서 만날 때\n",
    "    elif diff < dist < r1 + r2:\n",
    "        ans = 2\n",
    "\n",
    "    print(ans)\n"
   ]
  },
  {
   "cell_type": "code",
   "execution_count": null,
   "metadata": {},
   "outputs": [],
   "source": []
  }
 ],
 "metadata": {
  "kernelspec": {
   "display_name": "week4",
   "language": "python",
   "name": "python3"
  },
  "language_info": {
   "codemirror_mode": {
    "name": "ipython",
    "version": 3
   },
   "file_extension": ".py",
   "mimetype": "text/x-python",
   "name": "python",
   "nbconvert_exporter": "python",
   "pygments_lexer": "ipython3",
   "version": "3.11.9"
  }
 },
 "nbformat": 4,
 "nbformat_minor": 2
}
