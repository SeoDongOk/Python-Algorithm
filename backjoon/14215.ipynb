{
 "cells": [
  {
   "cell_type": "code",
   "execution_count": 16,
   "metadata": {},
   "outputs": [
    {
     "name": "stdout",
     "output_type": "stream",
     "text": [
      "113\n"
     ]
    }
   ],
   "source": [
    "def triangle(data):\n",
    "  max_vlaue=max(data)\n",
    "  data.remove(max_vlaue)\n",
    "  if sum(data) > max_vlaue:\n",
    "    print( sum(data)+max_vlaue)\n",
    "  else:\n",
    "    print( sum(data)+ sum(data) -1)\n"
   ]
  },
  {
   "cell_type": "code",
   "execution_count": 17,
   "metadata": {},
   "outputs": [
    {
     "ename": "ValueError",
     "evalue": "invalid literal for int() with base 10: '1,2,3'",
     "output_type": "error",
     "traceback": [
      "\u001b[0;31m---------------------------------------------------------------------------\u001b[0m",
      "\u001b[0;31mValueError\u001b[0m                                Traceback (most recent call last)",
      "Cell \u001b[0;32mIn[17], line 1\u001b[0m\n\u001b[0;32m----> 1\u001b[0m data \u001b[38;5;241m=\u001b[39m \u001b[38;5;28mlist\u001b[39m(\u001b[38;5;28mmap\u001b[39m(\u001b[38;5;28mint\u001b[39m, \u001b[38;5;28minput\u001b[39m()\u001b[38;5;241m.\u001b[39msplit()))\n\u001b[1;32m      2\u001b[0m max_vlaue\u001b[38;5;241m=\u001b[39m\u001b[38;5;28mmax\u001b[39m(data)\n\u001b[1;32m      3\u001b[0m data\u001b[38;5;241m.\u001b[39mremove(max_vlaue)\n",
      "\u001b[0;31mValueError\u001b[0m: invalid literal for int() with base 10: '1,2,3'"
     ]
    }
   ],
   "source": [
    "# 실제 제출\n",
    "data = list(map(int, input().split()))\n",
    "max_vlaue=max(data)\n",
    "data.remove(max_vlaue)\n",
    "if sum(data) > max_vlaue:\n",
    "    print( sum(data)+max_vlaue)\n",
    "else:\n",
    "    print( sum(data)+ sum(data) -1)\n"
   ]
  },
  {
   "cell_type": "code",
   "execution_count": null,
   "metadata": {},
   "outputs": [],
   "source": []
  }
 ],
 "metadata": {
  "kernelspec": {
   "display_name": "week4",
   "language": "python",
   "name": "python3"
  },
  "language_info": {
   "codemirror_mode": {
    "name": "ipython",
    "version": 3
   },
   "file_extension": ".py",
   "mimetype": "text/x-python",
   "name": "python",
   "nbconvert_exporter": "python",
   "pygments_lexer": "ipython3",
   "version": "3.11.9"
  }
 },
 "nbformat": 4,
 "nbformat_minor": 2
}
